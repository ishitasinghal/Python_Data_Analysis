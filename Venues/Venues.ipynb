{
 "cells": [
  {
   "cell_type": "markdown",
   "metadata": {},
   "source": [
    "### importing the necessary libraries"
   ]
  },
  {
   "cell_type": "code",
   "execution_count": 2,
   "metadata": {},
   "outputs": [],
   "source": [
    "import pandas as pd"
   ]
  },
  {
   "cell_type": "markdown",
   "metadata": {},
   "source": [
    "### reading the dataset"
   ]
  },
  {
   "cell_type": "code",
   "execution_count": 3,
   "metadata": {},
   "outputs": [],
   "source": [
    "data=pd.read_csv(\"bournemouth_venues.csv\")"
   ]
  },
  {
   "cell_type": "markdown",
   "metadata": {},
   "source": [
    "### performing basic data reading functions"
   ]
  },
  {
   "cell_type": "code",
   "execution_count": 4,
   "metadata": {},
   "outputs": [
    {
     "data": {
      "text/html": [
       "<div>\n",
       "<style scoped>\n",
       "    .dataframe tbody tr th:only-of-type {\n",
       "        vertical-align: middle;\n",
       "    }\n",
       "\n",
       "    .dataframe tbody tr th {\n",
       "        vertical-align: top;\n",
       "    }\n",
       "\n",
       "    .dataframe thead th {\n",
       "        text-align: right;\n",
       "    }\n",
       "</style>\n",
       "<table border=\"1\" class=\"dataframe\">\n",
       "  <thead>\n",
       "    <tr style=\"text-align: right;\">\n",
       "      <th></th>\n",
       "      <th>Venue Name</th>\n",
       "      <th>Venue Category</th>\n",
       "      <th>Venue Latitude</th>\n",
       "      <th>Venue Longitude</th>\n",
       "    </tr>\n",
       "  </thead>\n",
       "  <tbody>\n",
       "    <tr>\n",
       "      <th>0</th>\n",
       "      <td>South Coast Roast</td>\n",
       "      <td>Coffee Shop</td>\n",
       "      <td>50.720913</td>\n",
       "      <td>-1.879085</td>\n",
       "    </tr>\n",
       "    <tr>\n",
       "      <th>1</th>\n",
       "      <td>DelMarco</td>\n",
       "      <td>Italian Restaurant</td>\n",
       "      <td>50.721370</td>\n",
       "      <td>-1.877221</td>\n",
       "    </tr>\n",
       "    <tr>\n",
       "      <th>2</th>\n",
       "      <td>Lower Gardens</td>\n",
       "      <td>Park</td>\n",
       "      <td>50.719323</td>\n",
       "      <td>-1.878195</td>\n",
       "    </tr>\n",
       "    <tr>\n",
       "      <th>3</th>\n",
       "      <td>Bournemouth Gardens</td>\n",
       "      <td>Park</td>\n",
       "      <td>50.718990</td>\n",
       "      <td>-1.877733</td>\n",
       "    </tr>\n",
       "    <tr>\n",
       "      <th>4</th>\n",
       "      <td>Bournemouth Square</td>\n",
       "      <td>Plaza</td>\n",
       "      <td>50.720156</td>\n",
       "      <td>-1.879563</td>\n",
       "    </tr>\n",
       "  </tbody>\n",
       "</table>\n",
       "</div>"
      ],
      "text/plain": [
       "            Venue Name      Venue Category  Venue Latitude  Venue Longitude\n",
       "0    South Coast Roast         Coffee Shop       50.720913        -1.879085\n",
       "1             DelMarco  Italian Restaurant       50.721370        -1.877221\n",
       "2        Lower Gardens                Park       50.719323        -1.878195\n",
       "3  Bournemouth Gardens                Park       50.718990        -1.877733\n",
       "4   Bournemouth Square               Plaza       50.720156        -1.879563"
      ]
     },
     "execution_count": 4,
     "metadata": {},
     "output_type": "execute_result"
    }
   ],
   "source": [
    "data.head()"
   ]
  },
  {
   "cell_type": "code",
   "execution_count": 5,
   "metadata": {},
   "outputs": [
    {
     "data": {
      "text/plain": [
       "(100, 4)"
      ]
     },
     "execution_count": 5,
     "metadata": {},
     "output_type": "execute_result"
    }
   ],
   "source": [
    "data.shape"
   ]
  },
  {
   "cell_type": "code",
   "execution_count": 6,
   "metadata": {},
   "outputs": [
    {
     "name": "stdout",
     "output_type": "stream",
     "text": [
      "<class 'pandas.core.frame.DataFrame'>\n",
      "RangeIndex: 100 entries, 0 to 99\n",
      "Data columns (total 4 columns):\n",
      "Venue Name         100 non-null object\n",
      "Venue Category     100 non-null object\n",
      "Venue Latitude     100 non-null float64\n",
      "Venue Longitude    100 non-null float64\n",
      "dtypes: float64(2), object(2)\n",
      "memory usage: 3.2+ KB\n"
     ]
    }
   ],
   "source": [
    "data.info()"
   ]
  },
  {
   "cell_type": "code",
   "execution_count": 7,
   "metadata": {},
   "outputs": [
    {
     "data": {
      "text/plain": [
       "51"
      ]
     },
     "execution_count": 7,
     "metadata": {},
     "output_type": "execute_result"
    }
   ],
   "source": [
    "data['Venue Category'].nunique()"
   ]
  },
  {
   "cell_type": "markdown",
   "metadata": {},
   "source": [
    "### finding the most popular venue categories"
   ]
  },
  {
   "cell_type": "code",
   "execution_count": 11,
   "metadata": {},
   "outputs": [],
   "source": [
    "Categories= data['Venue Category'].values.tolist()"
   ]
  },
  {
   "cell_type": "code",
   "execution_count": 14,
   "metadata": {},
   "outputs": [],
   "source": [
    "Categories = [cat.strip(\" \") for cat in Categories]"
   ]
  },
  {
   "cell_type": "code",
   "execution_count": 15,
   "metadata": {},
   "outputs": [
    {
     "data": {
      "text/plain": [
       "['Coffee Shop',\n",
       " 'Italian Restaurant',\n",
       " 'Park',\n",
       " 'Park',\n",
       " 'Plaza',\n",
       " 'Pizza Place',\n",
       " 'Coffee Shop',\n",
       " 'Burger Joint',\n",
       " 'Park',\n",
       " 'Sandwich Place',\n",
       " 'Coffee Shop',\n",
       " 'Gym',\n",
       " 'Coffee Shop',\n",
       " 'Hotel',\n",
       " 'Sandwich Place',\n",
       " 'Vegetarian / Vegan Restaurant',\n",
       " 'Burger Joint',\n",
       " 'Comfort Food Restaurant',\n",
       " 'Beach',\n",
       " 'Multiplex',\n",
       " 'Ice Cream Shop',\n",
       " 'Café',\n",
       " 'Greek Restaurant',\n",
       " 'Beach',\n",
       " 'Coffee Shop',\n",
       " 'Gym / Fitness Center',\n",
       " 'Coffee Shop',\n",
       " 'Park',\n",
       " 'Bubble Tea Shop',\n",
       " 'Modern European Restaurant',\n",
       " 'Caribbean Restaurant',\n",
       " 'Cocktail Bar',\n",
       " 'Thai Restaurant',\n",
       " 'Pub',\n",
       " 'Coffee Shop',\n",
       " 'Indian Restaurant',\n",
       " 'Café',\n",
       " 'Nightclub',\n",
       " 'Art Museum',\n",
       " 'Clothing Store',\n",
       " 'Hotel',\n",
       " 'Hotel',\n",
       " 'French Restaurant',\n",
       " 'Gym / Fitness Center',\n",
       " 'Theater',\n",
       " 'Hotel',\n",
       " 'Clothing Store',\n",
       " 'Bar',\n",
       " 'English Restaurant',\n",
       " 'Fast Food Restaurant',\n",
       " 'Arts & Entertainment',\n",
       " 'Bar',\n",
       " 'Italian Restaurant',\n",
       " 'Indian Restaurant',\n",
       " 'Brewery',\n",
       " 'Garden',\n",
       " 'Aquarium',\n",
       " 'Diner',\n",
       " 'Tapas Restaurant',\n",
       " 'Seafood Restaurant',\n",
       " 'Mexican Restaurant',\n",
       " 'Beach',\n",
       " 'Sandwich Place',\n",
       " 'Pub',\n",
       " 'Dessert Shop',\n",
       " 'Italian Restaurant',\n",
       " 'Other Great Outdoors',\n",
       " 'Pizza Place',\n",
       " 'Italian Restaurant',\n",
       " 'Chinese Restaurant',\n",
       " 'Indian Restaurant',\n",
       " 'Turkish Restaurant',\n",
       " 'Park',\n",
       " 'Fast Food Restaurant',\n",
       " 'Hotel',\n",
       " 'Gay Bar',\n",
       " 'Bar',\n",
       " 'Sandwich Place',\n",
       " 'Nightclub',\n",
       " 'Noodle House',\n",
       " 'Plaza',\n",
       " 'Mexican Restaurant',\n",
       " 'Fast Food Restaurant',\n",
       " 'Hotel',\n",
       " 'Hotel',\n",
       " 'Gay Bar',\n",
       " 'Grocery Store',\n",
       " 'English Restaurant',\n",
       " 'Scenic Lookout',\n",
       " 'Train Station',\n",
       " 'Hotel',\n",
       " 'Café',\n",
       " 'Hotel',\n",
       " 'Bus Stop',\n",
       " 'Café',\n",
       " 'Platform',\n",
       " 'Hotel',\n",
       " 'Hotel',\n",
       " 'Beach',\n",
       " 'French Restaurant']"
      ]
     },
     "execution_count": 15,
     "metadata": {},
     "output_type": "execute_result"
    }
   ],
   "source": [
    "Categories"
   ]
  },
  {
   "cell_type": "code",
   "execution_count": null,
   "metadata": {},
   "outputs": [],
   "source": []
  }
 ],
 "metadata": {
  "kernelspec": {
   "display_name": "Python 3",
   "language": "python",
   "name": "python3"
  },
  "language_info": {
   "codemirror_mode": {
    "name": "ipython",
    "version": 3
   },
   "file_extension": ".py",
   "mimetype": "text/x-python",
   "name": "python",
   "nbconvert_exporter": "python",
   "pygments_lexer": "ipython3",
   "version": "3.7.3"
  }
 },
 "nbformat": 4,
 "nbformat_minor": 2
}
